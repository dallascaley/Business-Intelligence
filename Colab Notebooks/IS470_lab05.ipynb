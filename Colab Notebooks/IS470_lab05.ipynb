{
  "nbformat": 4,
  "nbformat_minor": 0,
  "metadata": {
    "colab": {
      "provenance": []
    },
    "kernelspec": {
      "name": "python3",
      "display_name": "Python 3"
    },
    "language_info": {
      "name": "python"
    }
  },
  "cells": [
    {
      "cell_type": "markdown",
      "metadata": {
        "id": "_YEHhu06X2im"
      },
      "source": [
        "#IS 470 Lab 5: K Nearest Neighbor\n",
        "\n",
        "---"
      ]
    },
    {
      "cell_type": "markdown",
      "metadata": {
        "id": "6jFjFMqAX-yp"
      },
      "source": [
        "This data set contains information of cars purchased at the Auction.\n",
        "<br>\n",
        "We will use this file to predict the quality of buying decisions and visualize decision processes.\n",
        "<br>\n",
        "<br>\n",
        "VARIABLE DESCRIPTIONS:<br>\n",
        "Auction: Auction provider at which the  vehicle was purchased<br>\n",
        "Color: Vehicle Color<br>\n",
        "IsBadBuy: Identifies if the kicked vehicle was an avoidable purchase<br>\n",
        "MMRCurrentAuctionAveragePrice: Acquisition price for this vehicle in average condition as of current day<br>\n",
        "Size: The size category of the vehicle (Compact, SUV, etc.)<br>\n",
        "TopThreeAmericanName:Identifies if the manufacturer is one of the top three American manufacturers<br>\n",
        "VehBCost: Acquisition cost paid for the vehicle at time of purchase<br>\n",
        "VehicleAge: The Years elapsed since the manufacturer's year<br>\n",
        "VehOdo: The vehicles odometer reading<br>\n",
        "WarrantyCost: Warranty price (term=36month  and millage=36K)<br>\n",
        "WheelType: The vehicle wheel type description (Alloy, Covers)<br>\n",
        "<br>\n",
        "Target variable: **IsBadBuy**"
      ]
    },
    {
      "cell_type": "code",
      "source": [
        "# Mounting Google Drive\n",
        "from google.colab import drive\n",
        "drive.mount('/content/drive')"
      ],
      "metadata": {
        "id": "B6HemB0pcx9r"
      },
      "execution_count": null,
      "outputs": []
    },
    {
      "cell_type": "code",
      "metadata": {
        "id": "4db5s5prM1z8"
      },
      "source": [
        "# Import libraries\n",
        "import pandas as pd\n",
        "from sklearn.model_selection import train_test_split\n",
        "from matplotlib import pyplot as plt\n",
        "from sklearn import tree\n",
        "from sklearn.tree import DecisionTreeClassifier\n",
        "from sklearn.metrics import confusion_matrix\n",
        "from sklearn.metrics import ConfusionMatrixDisplay\n",
        "from sklearn.metrics import classification_report\n",
        "from sklearn.naive_bayes import MultinomialNB\n",
        "from sklearn.neighbors import KNeighborsClassifier\n",
        "from sklearn import preprocessing"
      ],
      "execution_count": 3,
      "outputs": []
    },
    {
      "cell_type": "markdown",
      "metadata": {
        "id": "D6UCBjrtG-g6"
      },
      "source": [
        "## 1.Upload and clean data"
      ]
    },
    {
      "cell_type": "code",
      "metadata": {
        "id": "Z7vBYMeBG0ZE"
      },
      "source": [
        "# Read data\n",
        "car_kick = pd.read_csv(\"/content/drive/MyDrive/IS470_data/car_kick.csv\")\n",
        "car_kick"
      ],
      "execution_count": null,
      "outputs": []
    },
    {
      "cell_type": "code",
      "source": [
        "# Select the desired columns only\n",
        "desired_columns = ['Auction', 'Color', 'IsBadBuy', 'MMRCurrentAuctionAveragePrice', 'Size','TopThreeAmericanName',\n",
        "'VehBCost', 'VehicleAge', 'VehOdo', 'WarrantyCost', 'WheelType']\n",
        "car_kick_desired = car_kick [desired_columns]"
      ],
      "metadata": {
        "id": "FRRyaQxPoKI-"
      },
      "execution_count": 5,
      "outputs": []
    },
    {
      "cell_type": "code",
      "source": [
        "# Replacing 1 with Yes and 0 with No in the target column IsBadBuy\n",
        "carAuction = car_kick_desired.copy() #why?\n",
        "carAuction.loc[:, 'IsBadBuy'] = carAuction['IsBadBuy'].replace({0: 'No', 1: 'Yes'})"
      ],
      "metadata": {
        "id": "GxN9KEZReQE2"
      },
      "execution_count": 6,
      "outputs": []
    },
    {
      "cell_type": "code",
      "metadata": {
        "id": "Sxp6-L5nNeRH"
      },
      "source": [
        "# Examine variable type\n",
        "carAuction.dtypes"
      ],
      "execution_count": null,
      "outputs": []
    },
    {
      "cell_type": "code",
      "metadata": {
        "id": "0Tdv67wRNeRH"
      },
      "source": [
        "# Change categorical variables to \"category\"\n",
        "carAuction['Auction'] = carAuction['Auction'].astype('category')\n",
        "carAuction['Color'] = carAuction['Color'].astype('category')\n",
        "carAuction['IsBadBuy'] = carAuction['IsBadBuy'].astype('category')\n",
        "carAuction['Size'] = carAuction['Size'].astype('category')\n",
        "carAuction['TopThreeAmericanName'] = carAuction['TopThreeAmericanName'].astype('category')\n",
        "carAuction['WheelType'] = carAuction['WheelType'].astype('category')"
      ],
      "execution_count": 8,
      "outputs": []
    },
    {
      "cell_type": "code",
      "metadata": {
        "id": "UPWSMKGRpWAj"
      },
      "source": [
        "# Examine variable type\n",
        "carAuction.dtypes"
      ],
      "execution_count": null,
      "outputs": []
    },
    {
      "cell_type": "code",
      "source": [
        "# Examine tope five rows\n",
        "carAuction.head()"
      ],
      "metadata": {
        "id": "QlZ8KdCW3TQL"
      },
      "execution_count": null,
      "outputs": []
    },
    {
      "cell_type": "code",
      "metadata": {
        "id": "PGheFILukrMR"
      },
      "source": [
        "# Create dummy variables\n",
        "carAuction = pd.get_dummies(carAuction, columns=['Auction','Color','Size','TopThreeAmericanName','WheelType'], drop_first=True)\n",
        "carAuction"
      ],
      "execution_count": null,
      "outputs": []
    },
    {
      "cell_type": "code",
      "source": [
        "# Take the target and examine the porportion of target variable for each class\n",
        "target = carAuction['IsBadBuy']\n",
        "print(target.value_counts(normalize=True))"
      ],
      "metadata": {
        "id": "b-bZHm3f4Gpd"
      },
      "execution_count": null,
      "outputs": []
    },
    {
      "cell_type": "code",
      "source": [
        "# Drop the target variable and put all the predictors in a new dataframe\n",
        "predictors = carAuction.drop(['IsBadBuy'],axis=1)"
      ],
      "metadata": {
        "id": "ynAEkPib42Wl"
      },
      "execution_count": 13,
      "outputs": []
    },
    {
      "cell_type": "code",
      "metadata": {
        "id": "U-98cfmGiKF6"
      },
      "source": [
        "# Apply minmax normalization on predictors\n",
        "min_max_scaler = preprocessing.MinMaxScaler()\n",
        "predictors_normalized = pd.DataFrame(min_max_scaler.fit_transform(predictors))\n",
        "predictors_normalized.columns = predictors.columns\n",
        "predictors_normalized"
      ],
      "execution_count": null,
      "outputs": []
    },
    {
      "cell_type": "markdown",
      "metadata": {
        "id": "a3baHs-sknIT"
      },
      "source": [
        "## 2.Partition and balance the data set for K Nearest Neighbor model"
      ]
    },
    {
      "cell_type": "code",
      "metadata": {
        "id": "UfxzlCPBnZ-4"
      },
      "source": [
        "# Partition the data\n",
        "predictors_train, predictors_test, target_train, target_test = train_test_split(predictors_normalized, target, test_size=0.3, random_state=0)\n",
        "print(predictors_train.shape, predictors_test.shape, target_train.shape, target_test.shape)"
      ],
      "execution_count": null,
      "outputs": []
    },
    {
      "cell_type": "code",
      "source": [
        "# Taking steps to balance the train data\n",
        "# Combine predictors_train and target_train into a single DataFrame\n",
        "combined_train_df = pd.concat([predictors_train, target_train], axis=1)\n",
        "\n",
        "# Separate majority and minority classes\n",
        "majority_df = combined_train_df[combined_train_df['IsBadBuy'] == 'No']\n",
        "minority_df = combined_train_df[combined_train_df['IsBadBuy'] == 'Yes']\n",
        "#print(len(majority_df), len(minority_df))\n",
        "# Undersample the majority class randomly\n",
        "undersampled_majority = majority_df.sample(n=int(1*len(minority_df)), random_state=55)\n",
        "\n",
        "# Combine the undersampled majority class and the minority class\n",
        "undersampled_data = pd.concat([undersampled_majority, minority_df])\n",
        "\n",
        "# Shuffle the combined DataFrame to ensure randomness\n",
        "balanced_data = undersampled_data.sample(frac=1, random_state=1)\n",
        "\n",
        "# Split the balanced_data into predictors_train and target_train\n",
        "predictors_train = balanced_data.drop(columns=['IsBadBuy'])\n",
        "target_train = balanced_data['IsBadBuy']"
      ],
      "metadata": {
        "id": "F0YwwrF16tGT"
      },
      "execution_count": 77,
      "outputs": []
    },
    {
      "cell_type": "code",
      "metadata": {
        "id": "j6Y5U91BoVmf"
      },
      "source": [
        "# Examine the porportion of target variable for training data set\n",
        "print(target_train.value_counts(normalize=True))"
      ],
      "execution_count": null,
      "outputs": []
    },
    {
      "cell_type": "code",
      "metadata": {
        "id": "MasSsm8apCG-"
      },
      "source": [
        "# Examine the porportion of target variable for testing data set\n",
        "print(target_test.value_counts(normalize=True))"
      ],
      "execution_count": null,
      "outputs": []
    },
    {
      "cell_type": "markdown",
      "metadata": {
        "id": "xt0XU6fmplzw"
      },
      "source": [
        "## 3.K Nearest Neighbor model prediction"
      ]
    },
    {
      "cell_type": "markdown",
      "metadata": {
        "id": "rFuNSIFlz8bj"
      },
      "source": [
        "### Build a K Nearest Neighbor model with n_neighbors = 1"
      ]
    },
    {
      "cell_type": "code",
      "metadata": {
        "colab": {
          "base_uri": "https://localhost:8080/",
          "height": 74
        },
        "id": "yi8FlSIQpB_X",
        "outputId": "1509ae59-8825-4cca-b4a2-42f684b1ae01"
      },
      "source": [
        "# Build a K Nearest Neighbor model on training data with n_neighbors = 1 (1 points)\n",
        "model1 = KNeighborsClassifier(n_neighbors = 1)\n"
      ],
      "execution_count": 80,
      "outputs": [
        {
          "output_type": "execute_result",
          "data": {
            "text/plain": [
              "KNeighborsClassifier(n_neighbors=1)"
            ],
            "text/html": [
              "<style>#sk-container-id-13 {color: black;background-color: white;}#sk-container-id-13 pre{padding: 0;}#sk-container-id-13 div.sk-toggleable {background-color: white;}#sk-container-id-13 label.sk-toggleable__label {cursor: pointer;display: block;width: 100%;margin-bottom: 0;padding: 0.3em;box-sizing: border-box;text-align: center;}#sk-container-id-13 label.sk-toggleable__label-arrow:before {content: \"▸\";float: left;margin-right: 0.25em;color: #696969;}#sk-container-id-13 label.sk-toggleable__label-arrow:hover:before {color: black;}#sk-container-id-13 div.sk-estimator:hover label.sk-toggleable__label-arrow:before {color: black;}#sk-container-id-13 div.sk-toggleable__content {max-height: 0;max-width: 0;overflow: hidden;text-align: left;background-color: #f0f8ff;}#sk-container-id-13 div.sk-toggleable__content pre {margin: 0.2em;color: black;border-radius: 0.25em;background-color: #f0f8ff;}#sk-container-id-13 input.sk-toggleable__control:checked~div.sk-toggleable__content {max-height: 200px;max-width: 100%;overflow: auto;}#sk-container-id-13 input.sk-toggleable__control:checked~label.sk-toggleable__label-arrow:before {content: \"▾\";}#sk-container-id-13 div.sk-estimator input.sk-toggleable__control:checked~label.sk-toggleable__label {background-color: #d4ebff;}#sk-container-id-13 div.sk-label input.sk-toggleable__control:checked~label.sk-toggleable__label {background-color: #d4ebff;}#sk-container-id-13 input.sk-hidden--visually {border: 0;clip: rect(1px 1px 1px 1px);clip: rect(1px, 1px, 1px, 1px);height: 1px;margin: -1px;overflow: hidden;padding: 0;position: absolute;width: 1px;}#sk-container-id-13 div.sk-estimator {font-family: monospace;background-color: #f0f8ff;border: 1px dotted black;border-radius: 0.25em;box-sizing: border-box;margin-bottom: 0.5em;}#sk-container-id-13 div.sk-estimator:hover {background-color: #d4ebff;}#sk-container-id-13 div.sk-parallel-item::after {content: \"\";width: 100%;border-bottom: 1px solid gray;flex-grow: 1;}#sk-container-id-13 div.sk-label:hover label.sk-toggleable__label {background-color: #d4ebff;}#sk-container-id-13 div.sk-serial::before {content: \"\";position: absolute;border-left: 1px solid gray;box-sizing: border-box;top: 0;bottom: 0;left: 50%;z-index: 0;}#sk-container-id-13 div.sk-serial {display: flex;flex-direction: column;align-items: center;background-color: white;padding-right: 0.2em;padding-left: 0.2em;position: relative;}#sk-container-id-13 div.sk-item {position: relative;z-index: 1;}#sk-container-id-13 div.sk-parallel {display: flex;align-items: stretch;justify-content: center;background-color: white;position: relative;}#sk-container-id-13 div.sk-item::before, #sk-container-id-13 div.sk-parallel-item::before {content: \"\";position: absolute;border-left: 1px solid gray;box-sizing: border-box;top: 0;bottom: 0;left: 50%;z-index: -1;}#sk-container-id-13 div.sk-parallel-item {display: flex;flex-direction: column;z-index: 1;position: relative;background-color: white;}#sk-container-id-13 div.sk-parallel-item:first-child::after {align-self: flex-end;width: 50%;}#sk-container-id-13 div.sk-parallel-item:last-child::after {align-self: flex-start;width: 50%;}#sk-container-id-13 div.sk-parallel-item:only-child::after {width: 0;}#sk-container-id-13 div.sk-dashed-wrapped {border: 1px dashed gray;margin: 0 0.4em 0.5em 0.4em;box-sizing: border-box;padding-bottom: 0.4em;background-color: white;}#sk-container-id-13 div.sk-label label {font-family: monospace;font-weight: bold;display: inline-block;line-height: 1.2em;}#sk-container-id-13 div.sk-label-container {text-align: center;}#sk-container-id-13 div.sk-container {/* jupyter's `normalize.less` sets `[hidden] { display: none; }` but bootstrap.min.css set `[hidden] { display: none !important; }` so we also need the `!important` here to be able to override the default hidden behavior on the sphinx rendered scikit-learn.org. See: https://github.com/scikit-learn/scikit-learn/issues/21755 */display: inline-block !important;position: relative;}#sk-container-id-13 div.sk-text-repr-fallback {display: none;}</style><div id=\"sk-container-id-13\" class=\"sk-top-container\"><div class=\"sk-text-repr-fallback\"><pre>KNeighborsClassifier(n_neighbors=1)</pre><b>In a Jupyter environment, please rerun this cell to show the HTML representation or trust the notebook. <br />On GitHub, the HTML representation is unable to render, please try loading this page with nbviewer.org.</b></div><div class=\"sk-container\" hidden><div class=\"sk-item\"><div class=\"sk-estimator sk-toggleable\"><input class=\"sk-toggleable__control sk-hidden--visually\" id=\"sk-estimator-id-13\" type=\"checkbox\" checked><label for=\"sk-estimator-id-13\" class=\"sk-toggleable__label sk-toggleable__label-arrow\">KNeighborsClassifier</label><div class=\"sk-toggleable__content\"><pre>KNeighborsClassifier(n_neighbors=1)</pre></div></div></div></div></div>"
            ]
          },
          "metadata": {},
          "execution_count": 80
        }
      ]
    },
    {
      "cell_type": "code",
      "metadata": {
        "id": "s3BPoqH0tuDd"
      },
      "source": [
        "# Make predictions on training and testing data (1 points)\n",
        "prediction_on_train =\n",
        "prediction_on_test ="
      ],
      "execution_count": 81,
      "outputs": []
    },
    {
      "cell_type": "code",
      "metadata": {
        "id": "b0bXYF0jxeUt"
      },
      "source": [
        "# Examine the evaluation results on training data: confusion_matrix\n",
        "cm = confusion_matrix(target_train, prediction_on_train)\n",
        "ConfusionMatrixDisplay(confusion_matrix=cm, display_labels=model1.classes_).plot()"
      ],
      "execution_count": null,
      "outputs": []
    },
    {
      "cell_type": "code",
      "metadata": {
        "id": "7QWLYy7exeUt"
      },
      "source": [
        "# Examine the evaluation results on training data: accuracy, precision, recall, and f1-score (1 points)\n",
        "print(classification_report(--- ,--- ))"
      ],
      "execution_count": null,
      "outputs": []
    },
    {
      "cell_type": "code",
      "metadata": {
        "id": "Mp2hbRzywpGd"
      },
      "source": [
        "# Examine the evaluation results on testing data: confusion_matrix\n",
        "cm = confusion_matrix(target_test, prediction_on_test)\n",
        "ConfusionMatrixDisplay(confusion_matrix=cm, display_labels=model1.classes_).plot()"
      ],
      "execution_count": null,
      "outputs": []
    },
    {
      "cell_type": "code",
      "metadata": {
        "id": "JnI7ioz-xBN0"
      },
      "source": [
        "# Examine the evaluation results on testing data: accuracy, precision, recall, and f1-score (1 points)\n",
        "print(classification_report(---, ---))"
      ],
      "execution_count": null,
      "outputs": []
    },
    {
      "cell_type": "markdown",
      "metadata": {
        "id": "ahgldnbVzVuI"
      },
      "source": [
        "Q1. Compare the performances on training and testing sets by answering the following: <br>\n",
        "\n",
        "a. Why we have perfect evaluation results on the training data? (1 points)<br>\n",
        "\n",
        "\n",
        "b. Does the KNN model with n_neighbors = 1 generalize well on the testing set? why? (1 points)<br>\n"
      ]
    },
    {
      "cell_type": "markdown",
      "metadata": {
        "id": "nrMN9_Dy0EgZ"
      },
      "source": [
        "### Build a K Nearest Neighbor model with n_neighbors = 2"
      ]
    },
    {
      "cell_type": "code",
      "metadata": {
        "id": "RGL-LC4b0LrM"
      },
      "source": [
        "# Build a K Nearest Neighbor model on training data with n_neighbors = 4 (1 pts)\n",
        "model2 = KNeighborsClassifier(n_neighbors = 4)\n",
        "model2.fit(---, ---)"
      ],
      "execution_count": null,
      "outputs": []
    },
    {
      "cell_type": "code",
      "metadata": {
        "id": "CotVF0cm0LrN"
      },
      "source": [
        "# Make predictions on training and testing data\n",
        "prediction_on_train =\n",
        "prediction_on_test ="
      ],
      "execution_count": 87,
      "outputs": []
    },
    {
      "cell_type": "code",
      "metadata": {
        "id": "86Ck2PyI0LrP"
      },
      "source": [
        "# Examine the evaluation results on training data: confusion_matrix\n",
        "cm = confusion_matrix(target_train, prediction_on_train)\n",
        "ConfusionMatrixDisplay(confusion_matrix=cm, display_labels=model2.classes_).plot()"
      ],
      "execution_count": null,
      "outputs": []
    },
    {
      "cell_type": "code",
      "metadata": {
        "id": "aAa_arlq0LrP"
      },
      "source": [
        "# Examine the evaluation results on training data: accuracy, precision, recall, and f1-score\n",
        "print(classification_report(target_train, prediction_on_train))"
      ],
      "execution_count": null,
      "outputs": []
    },
    {
      "cell_type": "code",
      "metadata": {
        "id": "ybIvFlpF0LrO"
      },
      "source": [
        "# Examine the evaluation results on testing data: confusion_matrix\n",
        "cm = confusion_matrix(target_test, prediction_on_test)\n",
        "ConfusionMatrixDisplay(confusion_matrix=cm, display_labels=model2.classes_).plot()"
      ],
      "execution_count": null,
      "outputs": []
    },
    {
      "cell_type": "code",
      "metadata": {
        "id": "dMVsZn2z0LrO"
      },
      "source": [
        "# Examine the evaluation results on testing data: accuracy, precision, recall, and f1-score (1 points)\n",
        "print(classification_report(---, ---))"
      ],
      "execution_count": null,
      "outputs": []
    },
    {
      "cell_type": "markdown",
      "metadata": {
        "id": "72nt_q2I1Ciq"
      },
      "source": [
        "Q2. Which KNN model is the best for identifying bad buy cars (n_neighbors=1 or 4)? and why?  (1 points)<br>"
      ]
    },
    {
      "cell_type": "markdown",
      "metadata": {
        "id": "fjlxBrPw1H5R"
      },
      "source": [
        "Q3. How the KNN model would performs if we increase the value of n_neighbors very large? (1 points)<br>"
      ]
    },
    {
      "cell_type": "code",
      "metadata": {
        "id": "MNRp8uoa-0g0",
        "colab": {
          "base_uri": "https://localhost:8080/"
        },
        "outputId": "31ae17a2-6779-485d-cb61-a504807c8e11"
      },
      "source": [
        "!jupyter nbconvert --to html \"/content/drive/MyDrive/Colab Notebooks/IS470_lab05.ipynb\""
      ],
      "execution_count": 92,
      "outputs": [
        {
          "output_type": "stream",
          "name": "stdout",
          "text": [
            "[NbConvertApp] Converting notebook /content/drive/MyDrive/Colab Notebooks/IS470_lab05.ipynb to html\n",
            "[NbConvertApp] Writing 674966 bytes to /content/drive/MyDrive/Colab Notebooks/IS470_lab05.html\n"
          ]
        }
      ]
    }
  ]
}